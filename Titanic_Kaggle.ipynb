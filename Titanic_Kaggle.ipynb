{
  "nbformat": 4,
  "nbformat_minor": 0,
  "metadata": {
    "colab": {
      "provenance": [],
      "collapsed_sections": [
        "JLgPOfBFrR8G",
        "xMlmtIsm59ds",
        "pyYA-QPAx4Zh"
      ],
      "authorship_tag": "ABX9TyNbnheW5DtkIbn0AetMouLc",
      "include_colab_link": true
    },
    "kernelspec": {
      "name": "python3",
      "display_name": "Python 3"
    },
    "language_info": {
      "name": "python"
    }
  },
  "cells": [
    {
      "cell_type": "markdown",
      "metadata": {
        "id": "view-in-github",
        "colab_type": "text"
      },
      "source": [
        "<a href=\"https://colab.research.google.com/github/AlexeyBudarov/Titanic.-Kaggle-competition.-Binary_classification/blob/main/Titanic_Kaggle.ipynb\" target=\"_parent\"><img src=\"https://colab.research.google.com/assets/colab-badge.svg\" alt=\"Open In Colab\"/></a>"
      ]
    },
    {
      "cell_type": "markdown",
      "source": [
        "# **Data analysis**"
      ],
      "metadata": {
        "id": "QRzRlQ89ohHK"
      }
    },
    {
      "cell_type": "code",
      "execution_count": null,
      "metadata": {
        "id": "0IzhDsXGFbs_"
      },
      "outputs": [],
      "source": [
        "import pandas as pd\n",
        "import seaborn as sns\n",
        "import matplotlib.pyplot as plt\n",
        "import numpy as np\n",
        "import copy"
      ]
    },
    {
      "cell_type": "markdown",
      "source": [
        "Read and data analysis"
      ],
      "metadata": {
        "id": "lhexSGgomjMG"
      }
    },
    {
      "cell_type": "code",
      "source": [
        "df_train = pd.read_csv('train.csv')\n",
        "df_test = pd.read_csv('test.csv')\n",
        "# df_train.info()\n",
        "target = df_train['Survived']"
      ],
      "metadata": {
        "id": "NdzWquIkLG4X"
      },
      "execution_count": null,
      "outputs": []
    },
    {
      "cell_type": "code",
      "source": [
        "for i in range(len(df_train.columns)):\n",
        "  print(f\"{i} {df_train.columns[i]}  {sorted(set(df_train[df_train.columns[i]].dropna()))}\")\n",
        "  # print(f\"{df[df.columns[i]].info()}\")\n",
        "  # print()"
      ],
      "metadata": {
        "id": "jzoXmwVLN0xx"
      },
      "execution_count": null,
      "outputs": []
    },
    {
      "cell_type": "code",
      "source": [
        "def Split_type_cols(df_train):\n",
        "  cat_cols = []\n",
        "  cat_cols_index = []\n",
        "  num_cols = []\n",
        "  num_cols_index = []\n",
        "  for counter, column in enumerate(df_train.columns):\n",
        "    if df_train[column].dtypes == object:\n",
        "      cat_cols = np.append(cat_cols, column)\n",
        "      cat_cols_index = np.append(cat_cols_index, counter)\n",
        "    elif i != 'Survived':\n",
        "      num_cols = np.append(num_cols, column)\n",
        "      num_cols_index = np.append(num_cols_index, counter)\n",
        "  return cat_cols, cat_cols_index.astype(int), num_cols, num_cols_index.astype(int)"
      ],
      "metadata": {
        "id": "Kd3snT_a3xrJ"
      },
      "execution_count": null,
      "outputs": []
    },
    {
      "cell_type": "code",
      "source": [
        "def Del_columns(data, name):\n",
        "  new_data = data.drop(name, axis = 1)\n",
        "  cat_cols_new = np.delete(cat_cols, np.where(cat_cols == name)[0])\n",
        "  return new_data, cat_cols_new"
      ],
      "metadata": {
        "id": "vsg_vLvZ7vSy"
      },
      "execution_count": null,
      "outputs": []
    },
    {
      "cell_type": "markdown",
      "source": [
        "Function for splitting ticket on serial and number. Add this two columns in our data and remove old column. **Notion - bad idea, prediction has worsened**"
      ],
      "metadata": {
        "id": "PhioY8mgdye6"
      }
    },
    {
      "cell_type": "code",
      "source": [
        "def To_int(x):\n",
        "    try:\n",
        "      x = int(x)\n",
        "    except ValueError:\n",
        "      x = 1\n",
        "    return x"
      ],
      "metadata": {
        "id": "kyRO1VhHbAIn"
      },
      "execution_count": null,
      "outputs": []
    },
    {
      "cell_type": "code",
      "source": [
        "def Ticket_series(x):\n",
        "  temp = x.split(' ')\n",
        "  if len(temp) == 1:\n",
        "    return '0'\n",
        "  return '_'.join(temp[0:-1])"
      ],
      "metadata": {
        "id": "W1LUpHjkTRj-"
      },
      "execution_count": null,
      "outputs": []
    },
    {
      "cell_type": "code",
      "source": [
        "df_train['Ticket_Number'] = [To_int(x.split(' ')[-1]) for x in df_train['Ticket']]\n",
        "df_test['Ticket_Number'] = [To_int(x.split(' ')[-1]) for x in df_test['Ticket']]\n",
        "# df_train['Ticket_Number'] = [x.split(' ')[-1] for x in df_train['Ticket']]\n",
        "# df_test['Ticket_Number'] = [x.split(' ')[-1] for x in df_test['Ticket']]\n",
        "df_train['Ticket_Series'] = [Ticket_series(x) for x in df_train['Ticket']]\n",
        "df_test['Ticket_Series'] = [Ticket_series(x) for x in df_test['Ticket']]\n",
        "\n",
        "df_train = df_train.drop('Ticket', axis = 1)\n",
        "df_test = df_test.drop('Ticket', axis =1 )"
      ],
      "metadata": {
        "id": "YenGQpG5Noll"
      },
      "execution_count": null,
      "outputs": []
    },
    {
      "cell_type": "code",
      "source": [
        "df_train['Name'] = [\" \".join([v.strip(\",()[].\\\"'\") for v in x.split(\" \")]) for x in df_train['Name']]\n",
        "df_test['Name'] = [\" \".join([v.strip(\",()[].\\\"'\") for v in x.split(\" \")]) for x in df_test['Name']]"
      ],
      "metadata": {
        "id": "gKY6xm-vC2MV"
      },
      "execution_count": null,
      "outputs": []
    },
    {
      "cell_type": "markdown",
      "source": [
        "## Data for catboost"
      ],
      "metadata": {
        "id": "O0y338HjQ1mE"
      }
    },
    {
      "cell_type": "code",
      "source": [
        "df_train_catboost = copy.deepcopy(df_train)\n",
        "df_test_catboost = copy.deepcopy(df_test)\n",
        "\n",
        "\n",
        "# df_test_catboost = df_test_catboost.drop('Name', axis = 1)\n",
        "# df_train_catboost = df_train_catboost.drop('Name', axis = 1)\n",
        "\n",
        "df_test_catboost = df_test_catboost.drop('PassengerId', axis = 1)\n",
        "df_train_catboost = df_train_catboost.drop('PassengerId', axis = 1)\n",
        "\n",
        "df_train_catboost = df_train_catboost.drop('Survived', axis = 1)\n",
        "\n",
        "\n",
        "cat_cols_cb, cat_cols_cb_index, num_cols_cb, num_cols_cb_index = Split_type_cols(df_train_catboost)\n",
        "print(f\"cat_cols: {cat_cols_cb} - {cat_cols_cb_index}\\nnum_cols: {num_cols_cb} - {num_cols_cb_index}\")\n",
        "\n",
        "\n",
        "df_train_catboost[cat_cols_cb] = df_train_catboost[cat_cols_cb].fillna('')\n",
        "df_test_catboost[cat_cols_cb] = df_test_catboost[cat_cols_cb].fillna('')\n",
        "\n",
        "df_train_catboost[num_cols_cb] = df_train_catboost[num_cols_cb].fillna(0)\n",
        "df_test_catboost[num_cols_cb] = df_test_catboost[num_cols_cb].fillna(0)"
      ],
      "metadata": {
        "id": "aaFwkvCqQ03k",
        "colab": {
          "base_uri": "https://localhost:8080/"
        },
        "outputId": "b163e8a3-236b-4139-c87b-abce208a97c9"
      },
      "execution_count": null,
      "outputs": [
        {
          "output_type": "stream",
          "name": "stdout",
          "text": [
            "cat_cols: ['Name' 'Sex' 'Ticket' 'Cabin' 'Embarked'] - [ 2  3  7  9 10]\n",
            "num_cols: ['PassengerId' 'Pclass' 'Age' 'SibSp' 'Parch' 'Fare'] - [0 1 4 5 6 8]\n"
          ]
        }
      ]
    },
    {
      "cell_type": "markdown",
      "source": [
        "## General data prepocessing"
      ],
      "metadata": {
        "id": "y_CHBPWkO-br"
      }
    },
    {
      "cell_type": "code",
      "source": [
        "df_train['Embarked'] = df_train['Embarked'].replace({'S': 1, 'C': 2, 'Q': 3, np.nan:0})\n",
        "df_test['Embarked'] = df_test['Embarked'].replace({'S': 1, 'C': 2, 'Q': 3, np.nan:0})\n",
        "df_train['Sex'] = df_train['Sex'].replace({'female': 1, 'male': 0})\n",
        "df_test['Sex'] = df_test['Sex'].replace({'female': 1, 'male': 0})"
      ],
      "metadata": {
        "id": "ZoXhF3B_U-Of"
      },
      "execution_count": null,
      "outputs": []
    },
    {
      "cell_type": "code",
      "source": [
        "df_train['Cabin'] = df_train['Cabin'].fillna('0')\n",
        "df_test['Cabin'] = df_test['Cabin'].fillna('0')\n",
        "df_train['Cabin'].unique()"
      ],
      "metadata": {
        "id": "m4ewXgtoYzUI"
      },
      "execution_count": null,
      "outputs": []
    },
    {
      "cell_type": "markdown",
      "source": [
        "Think about how to encode cabins and build graphs"
      ],
      "metadata": {
        "id": "_OzarxlXoaUG"
      }
    },
    {
      "cell_type": "code",
      "source": [
        "df_train['Cabin'] = [x if x in df_test['Cabin'].unique() else '0' for x in df_train['Cabin']]\n",
        "df_train['Ticket'] = [x if x in df_test['Ticket'].unique() else '0' for x in df_train['Ticket']]\n",
        "df_test['Cabin'] = [x if x in df_train['Cabin'].unique() else '0' for x in df_test['Cabin']]\n",
        "df_test['Ticket'] = [x if x in df_train['Ticket'].unique() else '0' for x in df_test['Ticket']]"
      ],
      "metadata": {
        "id": "GMaJc1P0alYv"
      },
      "execution_count": null,
      "outputs": []
    },
    {
      "cell_type": "markdown",
      "source": [
        "This features **only worsen our prediction on all model**"
      ],
      "metadata": {
        "id": "A3Q0yfhN1KFZ"
      }
    },
    {
      "cell_type": "code",
      "source": [
        "df_test['Cabin'] = [x if x in df_train['Cabin'].unique() else '0' for x in df_test['Cabin']]\n",
        "df_train['Cabin'] = [x if x in df_test['Cabin'].unique() else '0' for x in df_train['Cabin']]\n",
        "df_test['Name'] = [x if x in df_train['Name'].unique() else '0' for x in df_test['Name']]\n",
        "df_train['Name'] = [x if x in df_test['Name'].unique() else '0' for x in df_train['Name']]"
      ],
      "metadata": {
        "id": "SlMm_8uS1Hoa"
      },
      "execution_count": null,
      "outputs": []
    },
    {
      "cell_type": "code",
      "source": [
        "df_train['Ticket_Number'] = [x if x in df_test['Ticket_Number'].unique() else 0 for x in df_train['Ticket_Number']]\n",
        "df_test['Ticket_Number'] = [x if x in df_train['Ticket_Number'].unique() else 0 for x in df_test['Ticket_Number']]\n",
        "\n",
        "df_test['Ticket_Series'] = [x if x in df_train['Ticket_Series'].unique() else '0' for x in df_test['Ticket_Series']]\n",
        "df_train['Ticket_Series'] = [x if x in df_test['Ticket_Series'].unique() else '0' for x in df_train['Ticket_Series']]"
      ],
      "metadata": {
        "id": "9ARuOqSFDAi5"
      },
      "execution_count": null,
      "outputs": []
    },
    {
      "cell_type": "code",
      "source": [
        "# df_train = df_train.drop('Name', axis= 1)\n",
        "# df_test = df_test.drop('Name', axis= 1)\n",
        "df_train = df_train.drop('PassengerId', axis= 1)\n",
        "df_test = df_test.drop('PassengerId', axis= 1)\n",
        "df_train = df_train.drop('Survived', axis= 1)"
      ],
      "metadata": {
        "id": "r1Lncfkd8Yo5"
      },
      "execution_count": null,
      "outputs": []
    },
    {
      "cell_type": "markdown",
      "source": [
        "Select categorial and numeric features"
      ],
      "metadata": {
        "id": "Oz2TDNeoR2OR"
      }
    },
    {
      "cell_type": "code",
      "source": [
        "cat_cols, cat_cols_index, num_cols, num_cols_index = Split_type_cols(df_train)\n",
        "target_col = 'Survived'\n",
        "print(cat_cols, cat_cols_index)\n",
        "print(num_cols, num_cols_index)\n",
        "print(target_col)"
      ],
      "metadata": {
        "id": "EMDPtFGw3eqZ",
        "colab": {
          "base_uri": "https://localhost:8080/"
        },
        "outputId": "64631501-c31c-4f1c-9503-eea0f32c5a94"
      },
      "execution_count": null,
      "outputs": [
        {
          "output_type": "stream",
          "name": "stdout",
          "text": [
            "['Name' 'Cabin' 'Ticket_Series'] [ 1  7 10]\n",
            "['Pclass' 'Sex' 'Age' 'SibSp' 'Parch' 'Fare' 'Embarked' 'Ticket_Number'] [0 2 3 4 5 6 8 9]\n",
            "Survived\n"
          ]
        }
      ]
    },
    {
      "cell_type": "markdown",
      "source": [
        "*Delete empty strings and any columns. Monitoring result our models*"
      ],
      "metadata": {
        "id": "y22mF94rM0bS"
      }
    },
    {
      "cell_type": "code",
      "source": [
        "df_train[cat_cols] = df_train[cat_cols].fillna('0')\n",
        "df_train[num_cols] = df_train[num_cols].fillna(0)\n",
        "df_test[num_cols] = df_test[num_cols].fillna(0)\n",
        "df_test[cat_cols]= df_test[cat_cols].fillna('0')"
      ],
      "metadata": {
        "id": "mmLkgd9fKLp2"
      },
      "execution_count": null,
      "outputs": []
    },
    {
      "cell_type": "markdown",
      "source": [
        "Work with categorial features. OneHotEncoder"
      ],
      "metadata": {
        "id": "bL9vIaB3Opx_"
      }
    },
    {
      "cell_type": "code",
      "source": [
        "df_train.columns"
      ],
      "metadata": {
        "id": "5nHyfpbNqO0z",
        "colab": {
          "base_uri": "https://localhost:8080/"
        },
        "outputId": "7efdde50-e1f9-4c07-85b6-ba25626dae91"
      },
      "execution_count": null,
      "outputs": [
        {
          "output_type": "execute_result",
          "data": {
            "text/plain": [
              "Index(['Pclass', 'Name', 'Sex', 'Age', 'SibSp', 'Parch', 'Fare', 'Cabin',\n",
              "       'Embarked', 'Ticket_Number', 'Ticket_Series'],\n",
              "      dtype='object')"
            ]
          },
          "metadata": {},
          "execution_count": 32
        }
      ]
    },
    {
      "cell_type": "code",
      "source": [
        "df_test.columns"
      ],
      "metadata": {
        "id": "fOOOBShkuyEe",
        "colab": {
          "base_uri": "https://localhost:8080/"
        },
        "outputId": "af647656-cc18-498a-c342-3bdc98cacede"
      },
      "execution_count": null,
      "outputs": [
        {
          "output_type": "execute_result",
          "data": {
            "text/plain": [
              "Index(['Pclass', 'Name', 'Sex', 'Age', 'SibSp', 'Parch', 'Fare', 'Cabin',\n",
              "       'Embarked', 'Ticket_Number', 'Ticket_Series'],\n",
              "      dtype='object')"
            ]
          },
          "metadata": {},
          "execution_count": 33
        }
      ]
    },
    {
      "cell_type": "markdown",
      "source": [
        "## Finish processig. Split data and convert categorial features"
      ],
      "metadata": {
        "id": "-mn2fQzORZAT"
      }
    },
    {
      "cell_type": "code",
      "source": [
        "from sklearn.model_selection import train_test_split #\n",
        "from sklearn.preprocessing import OneHotEncoder    #"
      ],
      "metadata": {
        "id": "zUA5vpacRQ7B"
      },
      "execution_count": null,
      "outputs": []
    },
    {
      "cell_type": "code",
      "source": [
        "df_train = pd.get_dummies(df_train, columns = cat_cols)     # May be convert to function\n",
        "df_test = pd.get_dummies(df_test, columns = cat_cols)"
      ],
      "metadata": {
        "id": "cVHaaAio3f1t"
      },
      "execution_count": null,
      "outputs": []
    },
    {
      "cell_type": "code",
      "source": [
        "X_train, X_test, y_train, y_test = train_test_split(df_train,target, train_size = 0.3, random_state = 42)"
      ],
      "metadata": {
        "id": "rIjmnnJUKnS6"
      },
      "execution_count": null,
      "outputs": []
    },
    {
      "cell_type": "markdown",
      "source": [
        "# **Testing some models**"
      ],
      "metadata": {
        "id": "yH4F-w3IOf85"
      }
    },
    {
      "cell_type": "markdown",
      "source": [
        "Select a metric"
      ],
      "metadata": {
        "id": "dom0jQImv8T0"
      }
    },
    {
      "cell_type": "code",
      "source": [
        "from sklearn.metrics import roc_auc_score\n",
        "from sklearn.preprocessing import StandardScaler\n",
        "from sklearn.model_selection import GridSearchCV"
      ],
      "metadata": {
        "id": "OflhKJ1gkyw-"
      },
      "execution_count": null,
      "outputs": []
    },
    {
      "cell_type": "markdown",
      "source": [
        "Search Hyperparameters"
      ],
      "metadata": {
        "id": "30ojYKXJvv3y"
      }
    },
    {
      "cell_type": "code",
      "source": [
        "def Get_Hyperparam(param_grid, model, X, y):\n",
        "  GS = GridSearchCV(model, param_grid, cv = 5)\n",
        "  GS.fit(X,y)\n",
        "  return GS.best_params_"
      ],
      "metadata": {
        "id": "knEQey_kv6fX"
      },
      "execution_count": null,
      "outputs": []
    },
    {
      "cell_type": "code",
      "source": [
        "def Norm_features(X_train, X_test, Test_data):\n",
        "  scaler = StandardScaler()\n",
        "  X_sc_train = scaler.fit_transform(X_train)\n",
        "  X_sc_test = scaler.transform(X_test)\n",
        "  Test_sc_data = scaler.transform(Test_data)\n",
        "  return X_sc_train, X_sc_test, Test_sc_data"
      ],
      "metadata": {
        "id": "tKQNPL3A24-c"
      },
      "execution_count": null,
      "outputs": []
    },
    {
      "cell_type": "code",
      "source": [
        "X_train_scaler, X_test_scaler, df_test_scaler = Norm_features(X_train, X_test, df_test)"
      ],
      "metadata": {
        "id": "MWMaVojI5Eip"
      },
      "execution_count": null,
      "outputs": []
    },
    {
      "cell_type": "markdown",
      "source": [
        "## Decision Tree"
      ],
      "metadata": {
        "id": "JLgPOfBFrR8G"
      }
    },
    {
      "cell_type": "code",
      "source": [
        "from sklearn.tree import DecisionTreeClassifier"
      ],
      "metadata": {
        "id": "qO5fC3OkPQ_g"
      },
      "execution_count": null,
      "outputs": []
    },
    {
      "cell_type": "code",
      "source": [
        "def Decision_tree(X_train, y_train, X_test, Test_data, param_grid, flag):\n",
        "  tree = DecisionTreeClassifier(**param_grid)\n",
        "  tree.fit(X_train, y_train)\n",
        "  if flag == 'train':\n",
        "    prediction = tree.predict_proba(X_test)[:,1]\n",
        "    return prediction\n",
        "  elif flag == 'test':\n",
        "    trash_hold = 0.5\n",
        "    Final_prediction = (tree.predict_proba(Test_data)[:,1] > trash_hold).astype(int)\n",
        "    return Final_prediction"
      ],
      "metadata": {
        "id": "55uoUi_rOfQk"
      },
      "execution_count": null,
      "outputs": []
    },
    {
      "cell_type": "code",
      "source": [
        "tree_param_grid = {'max_depth': np.arange(1,20),\n",
        "                   'criterion':['gini', 'entropy', 'log_loss']}"
      ],
      "metadata": {
        "id": "GSNT0wBD7Oen"
      },
      "execution_count": null,
      "outputs": []
    },
    {
      "cell_type": "markdown",
      "source": [
        "Without StandadScaler"
      ],
      "metadata": {
        "id": "iM_d8xJv6HRh"
      }
    },
    {
      "cell_type": "code",
      "source": [
        "tree_best_param = Get_Hyperparam(tree_param_grid, DecisionTreeClassifier(), X_train, y_train)\n",
        "print(tree_best_param)"
      ],
      "metadata": {
        "colab": {
          "base_uri": "https://localhost:8080/"
        },
        "id": "UEYFN-Wc1XcT",
        "outputId": "60c69f60-750c-4337-b89e-af64619eb569"
      },
      "execution_count": null,
      "outputs": [
        {
          "output_type": "stream",
          "name": "stdout",
          "text": [
            "{'criterion': 'gini', 'max_depth': 10}\n"
          ]
        }
      ]
    },
    {
      "cell_type": "code",
      "source": [
        "train_tree_result = roc_auc_score(y_test, Decision_tree(X_train,y_train, X_test, df_test, tree_best_param, 'train'))\n",
        "print(train_tree_result)"
      ],
      "metadata": {
        "colab": {
          "base_uri": "https://localhost:8080/"
        },
        "id": "c-MIwK9ujkqH",
        "outputId": "4341574e-605d-4daf-9c0e-61f929dfcb3f"
      },
      "execution_count": null,
      "outputs": [
        {
          "output_type": "stream",
          "name": "stdout",
          "text": [
            "0.7515099223468507\n"
          ]
        }
      ]
    },
    {
      "cell_type": "markdown",
      "source": [
        "With StandardScaler"
      ],
      "metadata": {
        "id": "2sOpwf0s6JBy"
      }
    },
    {
      "cell_type": "code",
      "source": [
        "tree_best_param_sc = Get_Hyperparam(tree_param_grid, DecisionTreeClassifier(), X_train_scaler, y_train)\n",
        "print(tree_best_param_sc)"
      ],
      "metadata": {
        "colab": {
          "base_uri": "https://localhost:8080/"
        },
        "id": "zL9Qwk0v5kGt",
        "outputId": "c21c9155-8209-408d-c7a1-05632c53ef5c"
      },
      "execution_count": null,
      "outputs": [
        {
          "output_type": "stream",
          "name": "stdout",
          "text": [
            "{'criterion': 'gini', 'max_depth': 10}\n"
          ]
        }
      ]
    },
    {
      "cell_type": "code",
      "source": [
        "train_tree_result_sc = roc_auc_score(y_test, Decision_tree(X_train_scaler,y_train, X_test_scaler, df_test_scaler, tree_best_param_sc, 'train'))\n",
        "print(train_tree_result_sc)"
      ],
      "metadata": {
        "colab": {
          "base_uri": "https://localhost:8080/"
        },
        "id": "wgtZcfRT5u8Q",
        "outputId": "15617c0d-6d14-45de-b609-35f7a97e9697"
      },
      "execution_count": null,
      "outputs": [
        {
          "output_type": "stream",
          "name": "stdout",
          "text": [
            "0.7757657463330457\n"
          ]
        }
      ]
    },
    {
      "cell_type": "markdown",
      "source": [
        "## Random forest"
      ],
      "metadata": {
        "id": "xMlmtIsm59ds"
      }
    },
    {
      "cell_type": "code",
      "source": [
        "from sklearn.ensemble import RandomForestClassifier"
      ],
      "metadata": {
        "id": "6PwAJ_cWjRSf"
      },
      "execution_count": null,
      "outputs": []
    },
    {
      "cell_type": "code",
      "source": [
        "def Random_forest(X_train, y_train, X_test, Test_data, param_grid, flag):\n",
        "  forest = RandomForestClassifier(**param_grid)\n",
        "  forest.fit(X_train, y_train)\n",
        "  if flag == 'train':\n",
        "    prediction = forest.predict_proba(X_test)[:,1]\n",
        "    return prediction\n",
        "  elif flag == 'test':\n",
        "    Final_prediction = forest.predict_proba(Test_data)[:,1]\n",
        "    trash_hold = 0.5\n",
        "    Final_prediction = (Final_prediction > trash_hold).astype(int)\n",
        "    return Final_prediction"
      ],
      "metadata": {
        "id": "RK8s5yZS5777"
      },
      "execution_count": null,
      "outputs": []
    },
    {
      "cell_type": "code",
      "source": [
        "forest_param_grid = {'n_estimators': [100, 200],\n",
        "    'max_depth': [10, 20],\n",
        "    'min_samples_split': [2, 5, 10],\n",
        "    'min_samples_leaf': [1, 2, 4],\n",
        "    'max_features': ['auto', 'sqrt', 'log2']}"
      ],
      "metadata": {
        "id": "_cNExii-6v-_"
      },
      "execution_count": null,
      "outputs": []
    },
    {
      "cell_type": "markdown",
      "source": [
        "Without StandardScaler"
      ],
      "metadata": {
        "id": "GoQMzmZj6Ysl"
      }
    },
    {
      "cell_type": "code",
      "source": [
        "forest_best_param = Get_Hyperparam(forest_param_grid, RandomForestClassifier(), X_train, y_train)\n",
        "print(forest_best_param)"
      ],
      "metadata": {
        "id": "ZeIhg5VNlGM-"
      },
      "execution_count": null,
      "outputs": []
    },
    {
      "cell_type": "code",
      "source": [
        "forest_train_result = roc_auc_score(y_test, Random_forest(X_train, y_train, X_test, df_test, forest_best_param, 'train'))\n",
        "print(forest_train_result)"
      ],
      "metadata": {
        "colab": {
          "base_uri": "https://localhost:8080/"
        },
        "id": "wLnF24ARmFvS",
        "outputId": "5132e061-e675-4a2f-bc99-1fefaa080350"
      },
      "execution_count": null,
      "outputs": [
        {
          "output_type": "stream",
          "name": "stderr",
          "text": [
            "/usr/local/lib/python3.10/dist-packages/sklearn/ensemble/_forest.py:424: FutureWarning: `max_features='auto'` has been deprecated in 1.1 and will be removed in 1.3. To keep the past behaviour, explicitly set `max_features='sqrt'` or remove this parameter as it is also the default value for RandomForestClassifiers and ExtraTreesClassifiers.\n",
            "  warn(\n"
          ]
        },
        {
          "output_type": "stream",
          "name": "stdout",
          "text": [
            "0.8259760569456427\n"
          ]
        }
      ]
    },
    {
      "cell_type": "markdown",
      "source": [
        "With StandardScaler"
      ],
      "metadata": {
        "id": "HqO0LQu06ezx"
      }
    },
    {
      "cell_type": "code",
      "source": [
        "forest_best_param_sc = Get_Hyperparam(forest_param_grid, RandomForestClassifier(), X_train_scaler, y_train)\n",
        "print(forest_best_param_sc)"
      ],
      "metadata": {
        "id": "6hQTxsOt6jQJ"
      },
      "execution_count": null,
      "outputs": []
    },
    {
      "cell_type": "code",
      "source": [
        "forest_train_result_sc = roc_auc_score(y_test, Random_forest(X_train_scaler, y_train, X_test_scaler, df_test_scaler, forest_best_param_sc, 'train'))\n",
        "print(forest_train_result_sc)"
      ],
      "metadata": {
        "colab": {
          "base_uri": "https://localhost:8080/"
        },
        "id": "jLJt0wOl68gi",
        "outputId": "84ab945c-be1a-482f-d9be-d519edd21e16"
      },
      "execution_count": null,
      "outputs": [
        {
          "output_type": "stream",
          "name": "stdout",
          "text": [
            "0.8475355910267471\n"
          ]
        }
      ]
    },
    {
      "cell_type": "markdown",
      "source": [
        "## KNearestNeighbors"
      ],
      "metadata": {
        "id": "pyYA-QPAx4Zh"
      }
    },
    {
      "cell_type": "code",
      "source": [
        "from sklearn.neighbors import KNeighborsClassifier"
      ],
      "metadata": {
        "id": "-lGVkKWAx2qP"
      },
      "execution_count": null,
      "outputs": []
    },
    {
      "cell_type": "code",
      "source": [
        "def KNN(X_train, y_train, X_test, Test_data, param_grid, flag):\n",
        "  knn = KNeighborsClassifier(**param_grid)\n",
        "  knn.fit(X_train, y_train)\n",
        "  if flag == 'test':\n",
        "    trash_hold = 0.5\n",
        "    Final_prediction = (knn.predict_proba(Test_data)[:,1] > trash_hold).astype(int)\n",
        "    return Final_prediction\n",
        "  elif flag == 'train':\n",
        "    prediction = knn.predict_proba(X_test)[:,1]\n",
        "    return prediction"
      ],
      "metadata": {
        "id": "l3_KhNRQ33M3"
      },
      "execution_count": null,
      "outputs": []
    },
    {
      "cell_type": "code",
      "source": [
        "knn_param_grid = {'n_neighbors': np.arange(50),\n",
        "              'algorithm': ['auto', 'ball_tree', 'kd_tree', 'brute'],\n",
        "              'weights':['uniform', 'distance']}"
      ],
      "metadata": {
        "id": "8rdPhlSP8lRQ"
      },
      "execution_count": null,
      "outputs": []
    },
    {
      "cell_type": "markdown",
      "source": [
        "Without StandardScaler"
      ],
      "metadata": {
        "id": "CC9RHviL7hEU"
      }
    },
    {
      "cell_type": "code",
      "source": [
        "knn_best_param = Get_Hyperparam(knn_param_grid, KNeighborsClassifier(), X_train, y_train)\n",
        "print(knn_best_param)"
      ],
      "metadata": {
        "id": "HgsQMvkO9Rv_"
      },
      "execution_count": null,
      "outputs": []
    },
    {
      "cell_type": "code",
      "source": [
        "knn_train_result = roc_auc_score(y_test, KNN(X_train, y_train, X_test, df_test, knn_best_param, 'train'))\n",
        "print(knn_train_result)"
      ],
      "metadata": {
        "colab": {
          "base_uri": "https://localhost:8080/"
        },
        "id": "1RsgpbTK9RNm",
        "outputId": "fc718985-777d-4e36-91e1-0cb485a0cad8"
      },
      "execution_count": null,
      "outputs": [
        {
          "output_type": "stream",
          "name": "stdout",
          "text": [
            "0.7206589732528041\n"
          ]
        }
      ]
    },
    {
      "cell_type": "markdown",
      "source": [
        "With StandardScaler"
      ],
      "metadata": {
        "id": "_YqCEl6J7mQC"
      }
    },
    {
      "cell_type": "code",
      "source": [
        "knn_best_param_sc = Get_Hyperparam(knn_param_grid, KNeighborsClassifier(), X_train_scaler, y_train)\n",
        "print(knn_best_param_sc)"
      ],
      "metadata": {
        "id": "bPcLyZ3l7uol"
      },
      "execution_count": null,
      "outputs": []
    },
    {
      "cell_type": "code",
      "source": [
        "knn_train_result_sc = roc_auc_score(y_test, KNN(X_train_scaler, y_train, X_test_scaler, df_test_scaler, knn_best_param_sc, 'train'))\n",
        "print(knn_train_result_sc)"
      ],
      "metadata": {
        "colab": {
          "base_uri": "https://localhost:8080/"
        },
        "id": "3GzTwPeH74v-",
        "outputId": "43995c78-8e99-44f8-fc7d-a129da9f7e05"
      },
      "execution_count": null,
      "outputs": [
        {
          "output_type": "stream",
          "name": "stdout",
          "text": [
            "0.822470880069025\n"
          ]
        }
      ]
    },
    {
      "cell_type": "markdown",
      "source": [
        "## CatBoost"
      ],
      "metadata": {
        "id": "X_Su-e7vAFsv"
      }
    },
    {
      "cell_type": "code",
      "source": [
        "!pip install catboost"
      ],
      "metadata": {
        "id": "9q-nyHPMBiCZ"
      },
      "execution_count": null,
      "outputs": []
    },
    {
      "cell_type": "code",
      "source": [
        "from catboost import CatBoostClassifier, Pool"
      ],
      "metadata": {
        "id": "wNMovVB8-4IU"
      },
      "execution_count": null,
      "outputs": []
    },
    {
      "cell_type": "code",
      "source": [
        "X_cb_train, X_cb_test, y_cb_train, y_cb_test = train_test_split(df_train_catboost.values,\n",
        "                                                    target.values,\n",
        "                                                    train_size = 0.7,\n",
        "                                                    random_state = 74)\n"
      ],
      "metadata": {
        "id": "mY-zySLLckoy"
      },
      "execution_count": null,
      "outputs": []
    },
    {
      "cell_type": "code",
      "source": [
        "param_grid_ = {'learning_rate': [0.03, 0.1, 0.07],\n",
        "                'depth': [2, 5, 9],\n",
        "                'l2_leaf_reg': [3, 5, 9],\n",
        "                'n_estimators': [200, 300]}"
      ],
      "metadata": {
        "id": "-2yBdrj_dgrm"
      },
      "execution_count": null,
      "outputs": []
    },
    {
      "cell_type": "code",
      "source": [
        "grid_search = GridSearchCV(CatBoostClassifier(random_seed=42), param_grid= param_grid_, cv=5)\n",
        "grid_search.fit(X_cb_train, y_cb_train, cat_features= cat_cols_cb_index)\n",
        "catboost_best_param = grid_search.best_params_\n",
        "print(catboost_best_param)"
      ],
      "metadata": {
        "id": "87uEJxs3cd0E"
      },
      "execution_count": null,
      "outputs": []
    },
    {
      "cell_type": "code",
      "source": [
        "def CatBoost(X_train, y_train,X_test, Test_data, param_grid, cat_cols_index, flag):\n",
        "\n",
        "  train_pool = Pool(X_train,\n",
        "                  y_train,\n",
        "                  cat_features= cat_cols_index)\n",
        "\n",
        "  test_pool = Pool(X_test,\n",
        "                 cat_features= cat_cols_index)\n",
        "\n",
        "  cat = CatBoostClassifier(**param_grid, random_seed=42)\n",
        "  cat.fit(train_pool)\n",
        "  if flag == 'train':\n",
        "    prediction = cat.predict_proba(test_pool)[:,1]\n",
        "    return prediction\n",
        "  elif flag == 'test':\n",
        "    trash_hold = 0.5\n",
        "    Final_prediction = (cat.predict_proba(Test_data)[:,1] > trash_hold).astype(int)\n",
        "    return Final_prediction"
      ],
      "metadata": {
        "id": "HYHlIqW5BttI"
      },
      "execution_count": null,
      "outputs": []
    },
    {
      "cell_type": "code",
      "source": [
        "catboost_train_result = roc_auc_score(y_cb_test, CatBoost(X_cb_train, y_cb_train, X_cb_test, df_test_catboost, catboost_best_param, cat_cols_cb_index, 'train'))\n",
        "print(catboost_train_result)"
      ],
      "metadata": {
        "id": "KErH_exJea03"
      },
      "execution_count": null,
      "outputs": []
    },
    {
      "cell_type": "code",
      "source": [
        "print(catboost_train_result)"
      ],
      "metadata": {
        "colab": {
          "base_uri": "https://localhost:8080/"
        },
        "id": "JpiPVhKolqdw",
        "outputId": "050e8327-af56-4b32-9b76-e9fc23c94b03"
      },
      "execution_count": null,
      "outputs": [
        {
          "output_type": "stream",
          "name": "stdout",
          "text": [
            "0.8960576640188291\n"
          ]
        }
      ]
    },
    {
      "cell_type": "markdown",
      "source": [
        "## Stacing"
      ],
      "metadata": {
        "id": "hPht5ZW6XcT6"
      }
    },
    {
      "cell_type": "code",
      "source": [
        "from sklearn.linear_model import LogisticRegression"
      ],
      "metadata": {
        "id": "8CVCt6R_HixY"
      },
      "execution_count": null,
      "outputs": []
    },
    {
      "cell_type": "code",
      "source": [
        "from sklearn.ensemble import StackingClassifier"
      ],
      "metadata": {
        "id": "5s4iXWFidyzn"
      },
      "execution_count": null,
      "outputs": []
    },
    {
      "cell_type": "code",
      "source": [
        "def Stacking(X_train, y_train, X_test, Test_data, estimators_, param_grid, flag):\n",
        "  stack = StackingClassifier(estimators = estimators_, final_estimator = LogisticRegression())\n",
        "  stack.fit(X_train, y_train)\n",
        "  if flag == 'test':\n",
        "    trash_hold = 0.5\n",
        "    Final_prediction = (stack.predict_proba(Test_data)[:,1] > trash_hold).astype(int)\n",
        "    return Final_prediction\n",
        "  elif flag == 'train':\n",
        "    prediction = stack.predict_proba(X_test)[:,1]\n",
        "    return prediction"
      ],
      "metadata": {
        "id": "ziad0HU5Jl9K"
      },
      "execution_count": null,
      "outputs": []
    },
    {
      "cell_type": "code",
      "source": [
        "estimators = [\n",
        "    ('DecisionTree_1', DecisionTreeClassifier(**tree_best_param)),\n",
        "    ('DecisionTree_2', DecisionTreeClassifier(criterion = 'gini', max_depth = 12)),\n",
        "    ('LogReg_2', LogisticRegression()),\n",
        "    ('KNN', KNeighborsClassifier(**knn_best_param)),\n",
        "    ('RandomForest_1', RandomForestClassifier(**forest_best_param)),\n",
        "    ('RandomForest_2', RandomForestClassifier(n_estimators = 154, max_depth = 13, min_samples_split = 3, min_samples_leaf = 2, max_features = 'sqrt')),\n",
        "    ('LogReg_1', LogisticRegression())\n",
        "\n",
        "    ]"
      ],
      "metadata": {
        "id": "AotS9TcvG0OT"
      },
      "execution_count": null,
      "outputs": []
    },
    {
      "cell_type": "code",
      "source": [
        "stacking_train_result = roc_auc_score(y_test, Stacking(X_train, y_train, X_test, df_test, estimators, knn_best_param, 'train'))\n",
        "print(stacking_train_result)"
      ],
      "metadata": {
        "id": "eFTBZoU1V4AU"
      },
      "execution_count": null,
      "outputs": []
    },
    {
      "cell_type": "code",
      "source": [
        "stacking_train_result_sc = roc_auc_score(y_test, Stacking(X_train_scaler, y_train, X_test_scaler, df_test_scaler, estimators, knn_best_param_sc, 'train'))\n",
        "print(stacking_train_result_sc)"
      ],
      "metadata": {
        "id": "ijtp-G5fYHAY"
      },
      "execution_count": null,
      "outputs": []
    },
    {
      "cell_type": "markdown",
      "source": [
        "# **Load final final test prediction**"
      ],
      "metadata": {
        "id": "LBimhgd7-C1x"
      }
    },
    {
      "cell_type": "code",
      "source": [
        "submission = pd.read_csv('gender_submission.csv')\n",
        "submission['Survived'] = Stacking(X_train, y_train, X_test, df_test, estimators, knn_best_param, 'test')\n",
        "submission.to_csv('my_submission_stacking_new.csv', index = False)"
      ],
      "metadata": {
        "id": "Qkysk9v5SfrS",
        "colab": {
          "base_uri": "https://localhost:8080/"
        },
        "outputId": "3b9d513f-16ae-4d31-fa38-e1533c8b62c2"
      },
      "execution_count": null,
      "outputs": [
        {
          "output_type": "stream",
          "name": "stderr",
          "text": [
            "/usr/local/lib/python3.10/dist-packages/sklearn/ensemble/_forest.py:424: FutureWarning: `max_features='auto'` has been deprecated in 1.1 and will be removed in 1.3. To keep the past behaviour, explicitly set `max_features='sqrt'` or remove this parameter as it is also the default value for RandomForestClassifiers and ExtraTreesClassifiers.\n",
            "  warn(\n",
            "/usr/local/lib/python3.10/dist-packages/sklearn/ensemble/_forest.py:424: FutureWarning: `max_features='auto'` has been deprecated in 1.1 and will be removed in 1.3. To keep the past behaviour, explicitly set `max_features='sqrt'` or remove this parameter as it is also the default value for RandomForestClassifiers and ExtraTreesClassifiers.\n",
            "  warn(\n",
            "/usr/local/lib/python3.10/dist-packages/sklearn/ensemble/_forest.py:424: FutureWarning: `max_features='auto'` has been deprecated in 1.1 and will be removed in 1.3. To keep the past behaviour, explicitly set `max_features='sqrt'` or remove this parameter as it is also the default value for RandomForestClassifiers and ExtraTreesClassifiers.\n",
            "  warn(\n",
            "/usr/local/lib/python3.10/dist-packages/sklearn/ensemble/_forest.py:424: FutureWarning: `max_features='auto'` has been deprecated in 1.1 and will be removed in 1.3. To keep the past behaviour, explicitly set `max_features='sqrt'` or remove this parameter as it is also the default value for RandomForestClassifiers and ExtraTreesClassifiers.\n",
            "  warn(\n",
            "/usr/local/lib/python3.10/dist-packages/sklearn/ensemble/_forest.py:424: FutureWarning: `max_features='auto'` has been deprecated in 1.1 and will be removed in 1.3. To keep the past behaviour, explicitly set `max_features='sqrt'` or remove this parameter as it is also the default value for RandomForestClassifiers and ExtraTreesClassifiers.\n",
            "  warn(\n",
            "/usr/local/lib/python3.10/dist-packages/sklearn/ensemble/_forest.py:424: FutureWarning: `max_features='auto'` has been deprecated in 1.1 and will be removed in 1.3. To keep the past behaviour, explicitly set `max_features='sqrt'` or remove this parameter as it is also the default value for RandomForestClassifiers and ExtraTreesClassifiers.\n",
            "  warn(\n"
          ]
        }
      ]
    }
  ]
}